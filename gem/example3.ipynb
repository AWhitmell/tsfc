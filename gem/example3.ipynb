{
 "cells": [
  {
   "cell_type": "code",
   "execution_count": 1,
   "metadata": {
    "collapsed": true
   },
   "outputs": [],
   "source": [
    "from gem import *\n",
    "from gem.impero_utils import compile_gem\n",
    "import numpy as np\n",
    "from tsfc.coffee import generate as generate_coffee\n",
    "from tsfc import compile_form"
   ]
  },
  {
   "cell_type": "code",
   "execution_count": 2,
   "metadata": {
    "collapsed": true
   },
   "outputs": [],
   "source": [
    "import gem.dev as dev"
   ]
  },
  {
   "cell_type": "code",
   "execution_count": 3,
   "metadata": {
    "collapsed": false
   },
   "outputs": [],
   "source": [
    "i = Index('i')\n",
    "j = Index('j')\n",
    "k = Index('k')"
   ]
  },
  {
   "cell_type": "code",
   "execution_count": 4,
   "metadata": {
    "collapsed": true
   },
   "outputs": [],
   "source": [
    "T10 = Variable('T10', shape=(6,6))\n",
    "T11 = Variable('T11', shape=(6,))\n",
    "T12 = Variable('T12', shape=(6,))\n",
    "T13 = Variable('T13', shape=(6,))\n",
    "T14 = Variable('T14', shape=(6,))\n",
    "T15 = Variable('T15', shape=(6,))\n",
    "\n",
    "W = Variable('W', shape=(6,))\n",
    "\n",
    "C4 = Literal(0.04)\n",
    "T0 = Literal(0.01)\n",
    "T1 = Literal(0.11)\n",
    "T2 = Literal(0.22)\n",
    "T3 = Literal(0.33)\n",
    "T4 = Literal(0.44)\n",
    "T5 = Literal(0.55)\n",
    "T6 = Literal(0.66)\n",
    "T7 = Literal(0.77)\n",
    "T8 = Literal(0.88)\n",
    "T9 = Literal(0.99)"
   ]
  },
  {
   "cell_type": "code",
   "execution_count": 5,
   "metadata": {
    "collapsed": false
   },
   "outputs": [],
   "source": [
    "T10ik = Indexed(T10, (i,k))\n",
    "T10ij = Indexed(T10, (i,j))\n",
    "T11j = Indexed(T11, (j,))\n",
    "T12j = Indexed(T12, (j,))\n",
    "T13k = Indexed(T13, (k,))\n",
    "T14k = Indexed(T14, (k,))\n",
    "T15k = Indexed(T15, (k,))\n",
    "\n",
    "Wi = Indexed(W, (i,))"
   ]
  },
  {
   "cell_type": "code",
   "execution_count": 11,
   "metadata": {
    "collapsed": false
   },
   "outputs": [
    {
     "data": {
      "text/latex": [
       "$T10_{i,k} \\times (T10_{i,j} \\times 0.33 + 0.44 \\times (T11_{j} \\times 0.22 + T12_{j} \\times 0.11) \\times 0.66)$"
      ],
      "text/plain": [
       "Product(Indexed(Variable('T10', (6, 6)), (Index('i'), Index('k'))), Sum(Product(Indexed(Variable('T10', (6, 6)), (Index('i'), Index('j'))), Literal(array(0.33))), Product(Product(Literal(array(0.44)), Sum(Product(Indexed(Variable('T11', (6,)), (Index('j'),)), Literal(array(0.22))), Product(Indexed(Variable('T12', (6,)), (Index('j'),)), Literal(array(0.11))))), Literal(array(0.66)))))"
      ]
     },
     "execution_count": 11,
     "metadata": {},
     "output_type": "execute_result"
    }
   ],
   "source": [
    "expr = Sum(Product(T11j, T2),Product(T12j,T1))\n",
    "expr = Product(Product(T4,expr), T6)\n",
    "expr = Sum(Product(T10ij,T3), expr)\n",
    "expr = Product(T10ik, expr)\n",
    "expr"
   ]
  },
  {
   "cell_type": "code",
   "execution_count": 8,
   "metadata": {
    "collapsed": false
   },
   "outputs": [
    {
     "data": {
      "text/plain": [
       "<module 'gem.dev' from '/home/ts2914/projects/firedrake/src/tsfc/gem/dev.pyc'>"
      ]
     },
     "execution_count": 8,
     "metadata": {},
     "output_type": "execute_result"
    }
   ],
   "source": [
    "reload(dev)"
   ]
  },
  {
   "cell_type": "code",
   "execution_count": 10,
   "metadata": {
    "collapsed": false
   },
   "outputs": [
    {
     "data": {
      "text/plain": [
       "15"
      ]
     },
     "execution_count": 10,
     "metadata": {},
     "output_type": "execute_result"
    }
   ],
   "source": [
    "dev.count_flop(expr)"
   ]
  },
  {
   "cell_type": "code",
   "execution_count": 11,
   "metadata": {
    "collapsed": false
   },
   "outputs": [],
   "source": [
    "result = dev._factorise(expr)"
   ]
  },
  {
   "cell_type": "code",
   "execution_count": 12,
   "metadata": {
    "collapsed": false
   },
   "outputs": [
    {
     "data": {
      "text/latex": [
       "$((0.11 \\times B_{i_{1},i_{3}} + 2.11 \\times B_{i_{1},i_{3}}) \\times (0.11 \\times C_{i_{1},i_{2}} + 2.11 \\times D_{i_{1},i_{2}}) + (1.11 \\times B_{i_{1},i_{3}} + 3.11 \\times B_{i_{1},i_{3}}) \\times (1.11 \\times C_{i_{1},i_{2}} + 3.11 \\times D_{i_{1},i_{2}}))$"
      ],
      "text/plain": [
       "Sum(Product(Sum(Product(Literal(array(0.11)), Indexed(Variable('B', (6, 6)), (Index(1), Index(3)))), Product(Literal(array(2.11)), Indexed(Variable('B', (6, 6)), (Index(1), Index(3))))), Sum(Product(Literal(array(0.11)), Indexed(Variable('C', (6, 6)), (Index(1), Index(2)))), Product(Literal(array(2.11)), Indexed(Variable('D', (6, 6)), (Index(1), Index(2)))))), Product(Sum(Product(Literal(array(1.11)), Indexed(Variable('B', (6, 6)), (Index(1), Index(3)))), Product(Literal(array(3.11)), Indexed(Variable('B', (6, 6)), (Index(1), Index(3))))), Sum(Product(Literal(array(1.11)), Indexed(Variable('C', (6, 6)), (Index(1), Index(2)))), Product(Literal(array(3.11)), Indexed(Variable('D', (6, 6)), (Index(1), Index(2)))))))"
      ]
     },
     "execution_count": 12,
     "metadata": {},
     "output_type": "execute_result"
    }
   ],
   "source": [
    "result[0]"
   ]
  },
  {
   "cell_type": "code",
   "execution_count": null,
   "metadata": {
    "collapsed": true
   },
   "outputs": [],
   "source": []
  }
 ],
 "metadata": {
  "kernelspec": {
   "display_name": "Python 2",
   "language": "python",
   "name": "python2"
  },
  "language_info": {
   "codemirror_mode": {
    "name": "ipython",
    "version": 2
   },
   "file_extension": ".py",
   "mimetype": "text/x-python",
   "name": "python",
   "nbconvert_exporter": "python",
   "pygments_lexer": "ipython2",
   "version": "2.7.12"
  }
 },
 "nbformat": 4,
 "nbformat_minor": 1
}
