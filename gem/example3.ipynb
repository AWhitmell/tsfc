{
 "cells": [
  {
   "cell_type": "code",
   "execution_count": 1,
   "metadata": {
    "collapsed": false
   },
   "outputs": [],
   "source": [
    "from gem import *\n",
    "from gem.impero_utils import compile_gem\n",
    "import numpy as np\n",
    "from tsfc.coffee import generate as generate_coffee\n",
    "from tsfc import compile_form"
   ]
  },
  {
   "cell_type": "code",
   "execution_count": 2,
   "metadata": {
    "collapsed": true
   },
   "outputs": [],
   "source": [
    "import gem.dev as dev"
   ]
  },
  {
   "cell_type": "code",
   "execution_count": 3,
   "metadata": {
    "collapsed": false
   },
   "outputs": [],
   "source": [
    "I = 20\n",
    "J = K = 3\n",
    "i = Index('i', I)\n",
    "j = Index('j', J)\n",
    "k = Index('k', K)"
   ]
  },
  {
   "cell_type": "code",
   "execution_count": 4,
   "metadata": {
    "collapsed": true
   },
   "outputs": [],
   "source": [
    "T10 = Variable('t_{10}', shape=(I,J))\n",
    "T11 = Variable('t_{11}', shape=(J,))\n",
    "T12 = Variable('t_{12}', shape=(J,))\n",
    "T13 = Variable('t_{13}', shape=(K,))\n",
    "T14 = Variable('t_{14}', shape=(K,))\n",
    "T15 = Variable('t_{15}', shape=(K,))\n",
    "\n",
    "W = Variable('W', shape=(I,))\n",
    "\n",
    "C4 = Literal(0.04, r'c_{4}')\n",
    "T0 = Literal(0.01, 't_{0}')\n",
    "T1 = Literal(0.11, 't_{1}')\n",
    "T2 = Literal(0.22, 't_{2}')\n",
    "T3 = Literal(0.33, 't_{3}')\n",
    "T4 = Literal(0.44, 't_{4}')\n",
    "T5 = Literal(0.55, 't_{5}')\n",
    "T6 = Literal(0.66, 't_{6}')\n",
    "T7 = Literal(0.77, 't_{7}')\n",
    "T8 = Literal(0.88, 't_{8}')\n",
    "T9 = Literal(0.99, 't_{9}')"
   ]
  },
  {
   "cell_type": "code",
   "execution_count": 5,
   "metadata": {
    "collapsed": false
   },
   "outputs": [],
   "source": [
    "T10ik = Indexed(T10, (i,k))\n",
    "T10ij = Indexed(T10, (i,j))\n",
    "T11j = Indexed(T11, (j,))\n",
    "T12j = Indexed(T12, (j,))\n",
    "T13k = Indexed(T13, (k,))\n",
    "T14k = Indexed(T14, (k,))\n",
    "T15k = Indexed(T15, (k,))\n",
    "\n",
    "Wi = Indexed(W, (i,))"
   ]
  },
  {
   "cell_type": "code",
   "execution_count": 6,
   "metadata": {
    "collapsed": false
   },
   "outputs": [
    {
     "data": {
      "text/latex": [
       "${t_{10}}_{i,k} \\times ({t_{10}}_{i,j} \\times {t_{3}} + {t_{4}} \\times ({t_{11}}_{j} \\times {t_{2}} + {t_{12}}_{j} \\times {t_{1}}) \\times {t_{6}})$"
      ],
      "text/plain": [
       "Product(Indexed(Variable('t_{10}', (20, 3)), (Index('i'), Index('k'))), Sum(Product(Indexed(Variable('t_{10}', (20, 3)), (Index('i'), Index('j'))), Literal('t_{3}', array(0.33))), Product(Product(Literal('t_{4}', array(0.44)), Sum(Product(Indexed(Variable('t_{11}', (3,)), (Index('j'),)), Literal('t_{2}', array(0.22))), Product(Indexed(Variable('t_{12}', (3,)), (Index('j'),)), Literal('t_{1}', array(0.11))))), Literal('t_{6}', array(0.66)))))"
      ]
     },
     "execution_count": 6,
     "metadata": {},
     "output_type": "execute_result"
    }
   ],
   "source": [
    "expr1 = Sum(Product(T11j, T2),Product(T12j,T1))\n",
    "expr1 = Product(Product(T4,expr1), T6)\n",
    "expr1 = Sum(Product(T10ij,T3), expr1)\n",
    "expr1 = Product(T10ik, expr1)\n",
    "expr1"
   ]
  },
  {
   "cell_type": "code",
   "execution_count": 7,
   "metadata": {
    "collapsed": false
   },
   "outputs": [
    {
     "data": {
      "text/latex": [
       "${t_{8}} \\times {t_{15}}_{k} \\times {t_{9}} \\times ({t_{11}}_{j} \\times {t_{2}} + {t_{12}}_{j} \\times {t_{1}}) \\times {t_{0}}$"
      ],
      "text/plain": [
       "Product(Product(Product(Product(Literal('t_{8}', array(0.88)), Indexed(Variable('t_{15}', (3,)), (Index('k'),))), Literal('t_{9}', array(0.99))), Sum(Product(Indexed(Variable('t_{11}', (3,)), (Index('j'),)), Literal('t_{2}', array(0.22))), Product(Indexed(Variable('t_{12}', (3,)), (Index('j'),)), Literal('t_{1}', array(0.11))))), Literal('t_{0}', array(0.01)))"
      ]
     },
     "execution_count": 7,
     "metadata": {},
     "output_type": "execute_result"
    }
   ],
   "source": [
    "expr2 = Sum(Product(T11j, T2), Product(T12j, T1))\n",
    "expr2 = Product(Product(Product(Product(T8, T15k), T9), expr2), T0)\n",
    "expr2"
   ]
  },
  {
   "cell_type": "code",
   "execution_count": 9,
   "metadata": {
    "collapsed": false
   },
   "outputs": [
    {
     "data": {
      "text/latex": [
       "${t_{10}}_{i,j} \\times -1.0 \\times ({t_{14}}_{k} \\times {t_{2}} + {t_{13}}_{k} \\times {t_{1}}) \\times {c_{4}}$"
      ],
      "text/plain": [
       "Product(Product(Product(Indexed(Variable('t_{10}', (20, 3)), (Index('i'), Index('j'))), Literal(None, array(-1.0))), Sum(Product(Indexed(Variable('t_{14}', (3,)), (Index('k'),)), Literal('t_{2}', array(0.22))), Product(Indexed(Variable('t_{13}', (3,)), (Index('k'),)), Literal('t_{1}', array(0.11))))), Literal('c_{4}', array(0.04)))"
      ]
     },
     "execution_count": 9,
     "metadata": {},
     "output_type": "execute_result"
    }
   ],
   "source": [
    "expr3 = Sum(Product(T14k, T2), Product(T13k, T1))\n",
    "expr3 = Product(Product(Product(T10ij, Literal(-1.0)), expr3), C4)\n",
    "expr3"
   ]
  },
  {
   "cell_type": "code",
   "execution_count": 16,
   "metadata": {
    "collapsed": false
   },
   "outputs": [
    {
     "data": {
      "text/latex": [
       "${t_{7}} \\times ({t_{14}}_{k} \\times {t_{2}} + {t_{13}}_{k} \\times {t_{1}}) \\times ({t_{11}}_{j} \\times {t_{2}} + {t_{12}}_{j} \\times {t_{1}}) \\times {c_{4}}$"
      ],
      "text/plain": [
       "Product(Product(Literal('t_{7}', array(0.77)), Sum(Product(Indexed(Variable('t_{14}', (3,)), (Index('k'),)), Literal('t_{2}', array(0.22))), Product(Indexed(Variable('t_{13}', (3,)), (Index('k'),)), Literal('t_{1}', array(0.11))))), Product(Sum(Product(Indexed(Variable('t_{11}', (3,)), (Index('j'),)), Literal('t_{2}', array(0.22))), Product(Indexed(Variable('t_{12}', (3,)), (Index('j'),)), Literal('t_{1}', array(0.11)))), Literal('c_{4}', array(0.04))))"
      ]
     },
     "execution_count": 16,
     "metadata": {},
     "output_type": "execute_result"
    }
   ],
   "source": [
    "expr4 = Product(Product(T7, Sum(Product(T14k, T2), Product(T13k, T1))), Product(Sum(Product(T11j, T2), Product(T12j, T1)), C4))\n",
    "expr4"
   ]
  },
  {
   "cell_type": "code",
   "execution_count": 19,
   "metadata": {
    "collapsed": false
   },
   "outputs": [
    {
     "data": {
      "text/latex": [
       "${t_{5}} \\times ({t_{14}}_{k} \\times {t_{11}}_{j} + {t_{13}}_{k} \\times {t_{12}}_{j}) \\times {t_{0}}$"
      ],
      "text/plain": [
       "Product(Product(Literal('t_{5}', array(0.55)), Sum(Product(Indexed(Variable('t_{14}', (3,)), (Index('k'),)), Indexed(Variable('t_{11}', (3,)), (Index('j'),))), Product(Indexed(Variable('t_{13}', (3,)), (Index('k'),)), Indexed(Variable('t_{12}', (3,)), (Index('j'),))))), Literal('t_{0}', array(0.01)))"
      ]
     },
     "execution_count": 19,
     "metadata": {},
     "output_type": "execute_result"
    }
   ],
   "source": [
    "expr5 = Sum(Product(T14k, T11j), Product(T13k, T12j))\n",
    "expr5 = Product(Product(T5, expr5), T0)\n",
    "expr5"
   ]
  },
  {
   "cell_type": "code",
   "execution_count": 32,
   "metadata": {
    "collapsed": false
   },
   "outputs": [
    {
     "data": {
      "text/latex": [
       "$(((({t_{10}}_{i,k} \\times ({t_{10}}_{i,j} \\times {t_{3}} + {t_{4}} \\times ({t_{11}}_{j} \\times {t_{2}} + {t_{12}}_{j} \\times {t_{1}}) \\times {t_{6}}) + {t_{8}} \\times {t_{15}}_{k} \\times {t_{9}} \\times ({t_{11}}_{j} \\times {t_{2}} + {t_{12}}_{j} \\times {t_{1}}) \\times {t_{0}}) + {t_{10}}_{i,j} \\times -1.0 \\times ({t_{14}}_{k} \\times {t_{2}} + {t_{13}}_{k} \\times {t_{1}}) \\times {c_{4}}) + {t_{7}} \\times ({t_{14}}_{k} \\times {t_{2}} + {t_{13}}_{k} \\times {t_{1}}) \\times ({t_{11}}_{j} \\times {t_{2}} + {t_{12}}_{j} \\times {t_{1}}) \\times {c_{4}}) + {t_{5}} \\times ({t_{14}}_{k} \\times {t_{11}}_{j} + {t_{13}}_{k} \\times {t_{12}}_{j}) \\times {t_{0}})$"
      ],
      "text/plain": [
       "Sum(Sum(Sum(Sum(Product(Indexed(Variable('t_{10}', (20, 3)), (Index('i'), Index('k'))), Sum(Product(Indexed(Variable('t_{10}', (20, 3)), (Index('i'), Index('j'))), Literal('t_{3}', array(0.33))), Product(Product(Literal('t_{4}', array(0.44)), Sum(Product(Indexed(Variable('t_{11}', (3,)), (Index('j'),)), Literal('t_{2}', array(0.22))), Product(Indexed(Variable('t_{12}', (3,)), (Index('j'),)), Literal('t_{1}', array(0.11))))), Literal('t_{6}', array(0.66))))), Product(Product(Product(Product(Literal('t_{8}', array(0.88)), Indexed(Variable('t_{15}', (3,)), (Index('k'),))), Literal('t_{9}', array(0.99))), Sum(Product(Indexed(Variable('t_{11}', (3,)), (Index('j'),)), Literal('t_{2}', array(0.22))), Product(Indexed(Variable('t_{12}', (3,)), (Index('j'),)), Literal('t_{1}', array(0.11))))), Literal('t_{0}', array(0.01)))), Product(Product(Product(Indexed(Variable('t_{10}', (20, 3)), (Index('i'), Index('j'))), Literal(None, array(-1.0))), Sum(Product(Indexed(Variable('t_{14}', (3,)), (Index('k'),)), Literal('t_{2}', array(0.22))), Product(Indexed(Variable('t_{13}', (3,)), (Index('k'),)), Literal('t_{1}', array(0.11))))), Literal('c_{4}', array(0.04)))), Product(Product(Literal('t_{7}', array(0.77)), Sum(Product(Indexed(Variable('t_{14}', (3,)), (Index('k'),)), Literal('t_{2}', array(0.22))), Product(Indexed(Variable('t_{13}', (3,)), (Index('k'),)), Literal('t_{1}', array(0.11))))), Product(Sum(Product(Indexed(Variable('t_{11}', (3,)), (Index('j'),)), Literal('t_{2}', array(0.22))), Product(Indexed(Variable('t_{12}', (3,)), (Index('j'),)), Literal('t_{1}', array(0.11)))), Literal('c_{4}', array(0.04))))), Product(Product(Literal('t_{5}', array(0.55)), Sum(Product(Indexed(Variable('t_{14}', (3,)), (Index('k'),)), Indexed(Variable('t_{11}', (3,)), (Index('j'),))), Product(Indexed(Variable('t_{13}', (3,)), (Index('k'),)), Indexed(Variable('t_{12}', (3,)), (Index('j'),))))), Literal('t_{0}', array(0.01))))"
      ]
     },
     "execution_count": 32,
     "metadata": {},
     "output_type": "execute_result"
    }
   ],
   "source": [
    "expr = reduce(Sum, [expr1, expr2, expr3, expr4, expr5])\n",
    "expr"
   ]
  },
  {
   "cell_type": "code",
   "execution_count": 33,
   "metadata": {
    "collapsed": false
   },
   "outputs": [
    {
     "data": {
      "text/plain": [
       "<module 'gem.dev' from '/home/tj/project/firedrake/src/tsfc/gem/dev.pyc'>"
      ]
     },
     "execution_count": 33,
     "metadata": {},
     "output_type": "execute_result"
    }
   ],
   "source": [
    "reload(dev)"
   ]
  },
  {
   "cell_type": "code",
   "execution_count": 34,
   "metadata": {
    "collapsed": false
   },
   "outputs": [
    {
     "data": {
      "text/plain": [
       "1575"
      ]
     },
     "execution_count": 34,
     "metadata": {},
     "output_type": "execute_result"
    }
   ],
   "source": [
    "dev.count_flop(expr, (i,j,k))"
   ]
  },
  {
   "cell_type": "code",
   "execution_count": 35,
   "metadata": {
    "collapsed": false
   },
   "outputs": [],
   "source": [
    "result = dev._factorise(expr, (i,j,k))"
   ]
  },
  {
   "cell_type": "code",
   "execution_count": 36,
   "metadata": {
    "collapsed": false
   },
   "outputs": [
    {
     "data": {
      "text/latex": [
       "$({t_{0}} \\times ({t_{5}} \\times ({t_{14}}_{k} \\times {t_{11}}_{j} + {t_{13}}_{k} \\times {t_{12}}_{j}) + {t_{8}} \\times {t_{15}}_{k} \\times {t_{9}} \\times ({t_{11}}_{j} \\times {t_{2}} + {t_{12}}_{j} \\times {t_{1}})) + (({t_{10}}_{i,k} \\times ({t_{10}}_{i,j} \\times {t_{3}} + {t_{4}} \\times ({t_{11}}_{j} \\times {t_{2}} + {t_{12}}_{j} \\times {t_{1}}) \\times {t_{6}}) + {t_{7}} \\times ({t_{14}}_{k} \\times {t_{2}} + {t_{13}}_{k} \\times {t_{1}}) \\times ({t_{11}}_{j} \\times {t_{2}} + {t_{12}}_{j} \\times {t_{1}}) \\times {c_{4}}) + {t_{10}}_{i,j} \\times -1.0 \\times ({t_{14}}_{k} \\times {t_{2}} + {t_{13}}_{k} \\times {t_{1}}) \\times {c_{4}}))$"
      ],
      "text/plain": [
       "Sum(Product(Literal('t_{0}', array(0.01)), Sum(Product(Literal('t_{5}', array(0.55)), Sum(Product(Indexed(Variable('t_{14}', (3,)), (Index('k'),)), Indexed(Variable('t_{11}', (3,)), (Index('j'),))), Product(Indexed(Variable('t_{13}', (3,)), (Index('k'),)), Indexed(Variable('t_{12}', (3,)), (Index('j'),))))), Product(Product(Product(Literal('t_{8}', array(0.88)), Indexed(Variable('t_{15}', (3,)), (Index('k'),))), Literal('t_{9}', array(0.99))), Sum(Product(Indexed(Variable('t_{11}', (3,)), (Index('j'),)), Literal('t_{2}', array(0.22))), Product(Indexed(Variable('t_{12}', (3,)), (Index('j'),)), Literal('t_{1}', array(0.11))))))), Sum(Sum(Product(Indexed(Variable('t_{10}', (20, 3)), (Index('i'), Index('k'))), Sum(Product(Indexed(Variable('t_{10}', (20, 3)), (Index('i'), Index('j'))), Literal('t_{3}', array(0.33))), Product(Product(Literal('t_{4}', array(0.44)), Sum(Product(Indexed(Variable('t_{11}', (3,)), (Index('j'),)), Literal('t_{2}', array(0.22))), Product(Indexed(Variable('t_{12}', (3,)), (Index('j'),)), Literal('t_{1}', array(0.11))))), Literal('t_{6}', array(0.66))))), Product(Product(Literal('t_{7}', array(0.77)), Sum(Product(Indexed(Variable('t_{14}', (3,)), (Index('k'),)), Literal('t_{2}', array(0.22))), Product(Indexed(Variable('t_{13}', (3,)), (Index('k'),)), Literal('t_{1}', array(0.11))))), Product(Sum(Product(Indexed(Variable('t_{11}', (3,)), (Index('j'),)), Literal('t_{2}', array(0.22))), Product(Indexed(Variable('t_{12}', (3,)), (Index('j'),)), Literal('t_{1}', array(0.11)))), Literal('c_{4}', array(0.04))))), Product(Product(Product(Indexed(Variable('t_{10}', (20, 3)), (Index('i'), Index('j'))), Literal(None, array(-1.0))), Sum(Product(Indexed(Variable('t_{14}', (3,)), (Index('k'),)), Literal('t_{2}', array(0.22))), Product(Indexed(Variable('t_{13}', (3,)), (Index('k'),)), Literal('t_{1}', array(0.11))))), Literal('c_{4}', array(0.04)))))"
      ]
     },
     "execution_count": 36,
     "metadata": {},
     "output_type": "execute_result"
    }
   ],
   "source": [
    "result[0]"
   ]
  },
  {
   "cell_type": "code",
   "execution_count": 37,
   "metadata": {
    "collapsed": false
   },
   "outputs": [
    {
     "data": {
      "text/plain": [
       "1395"
      ]
     },
     "execution_count": 37,
     "metadata": {},
     "output_type": "execute_result"
    }
   ],
   "source": [
    "result[1]"
   ]
  },
  {
   "cell_type": "code",
   "execution_count": null,
   "metadata": {
    "collapsed": true
   },
   "outputs": [],
   "source": []
  }
 ],
 "metadata": {
  "kernelspec": {
   "display_name": "Python 2",
   "language": "python",
   "name": "python2"
  },
  "language_info": {
   "codemirror_mode": {
    "name": "ipython",
    "version": 2
   },
   "file_extension": ".py",
   "mimetype": "text/x-python",
   "name": "python",
   "nbconvert_exporter": "python",
   "pygments_lexer": "ipython2",
   "version": "2.7.6"
  }
 },
 "nbformat": 4,
 "nbformat_minor": 1
}
