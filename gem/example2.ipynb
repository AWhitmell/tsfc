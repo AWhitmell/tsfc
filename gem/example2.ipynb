{
 "cells": [
  {
   "cell_type": "code",
   "execution_count": 1,
   "metadata": {
    "collapsed": true
   },
   "outputs": [],
   "source": [
    "from gem import *"
   ]
  },
  {
   "cell_type": "code",
   "execution_count": 2,
   "metadata": {
    "collapsed": true
   },
   "outputs": [],
   "source": [
    "import gem.dev as dev"
   ]
  },
  {
   "cell_type": "code",
   "execution_count": 3,
   "metadata": {
    "collapsed": true
   },
   "outputs": [],
   "source": [
    "I = 10\n",
    "J = K = 3\n",
    "i = Index('i', I)\n",
    "j = Index('j', J)\n",
    "k = Index('k', K)"
   ]
  },
  {
   "cell_type": "code",
   "execution_count": 4,
   "metadata": {
    "collapsed": true
   },
   "outputs": [],
   "source": [
    "A = Variable('a', (I, K))\n",
    "B = Variable('b', (I, K))\n",
    "C = Variable('c', (I, J))\n",
    "D = Variable('d', (I, J))\n",
    "W = Variable('W', (I,))"
   ]
  },
  {
   "cell_type": "code",
   "execution_count": 5,
   "metadata": {
    "collapsed": true
   },
   "outputs": [],
   "source": [
    "Aik = Indexed(A, (i, k))\n",
    "Bik = Indexed(B, (i, k))\n",
    "Cij = Indexed(C, (i, j))\n",
    "Dij = Indexed(D, (i, j))\n",
    "Wi = Indexed(W, (i,))"
   ]
  },
  {
   "cell_type": "code",
   "execution_count": 6,
   "metadata": {
    "collapsed": true
   },
   "outputs": [],
   "source": [
    "Z0 = Literal(0.1, 'z_{0}')\n",
    "Z1 = Literal(0.2, 'z_{1}')\n",
    "Z2 = Literal(0.3, 'z_{2}')\n",
    "Z3 = Literal(0.4, 'z_{3}')"
   ]
  },
  {
   "cell_type": "code",
   "execution_count": 7,
   "metadata": {
    "collapsed": false
   },
   "outputs": [
    {
     "data": {
      "text/latex": [
       "$(({z_{0}} \\times {a}_{i,k} + {z_{2}} \\times {b}_{i,k}) \\times ({z_{0}} \\times {c}_{i,j} + {z_{2}} \\times {d}_{i,j}) + ({z_{1}} \\times {a}_{i,k} + {z_{3}} \\times {b}_{i,k}) \\times ({z_{1}} \\times {c}_{i,j} + {z_{3}} \\times {d}_{i,j})) \\times {W}_{i}$"
      ],
      "text/plain": [
       "Product(Sum(Product(Sum(Product(Literal('z_{0}', array(0.1)), Indexed(Variable('a', (10, 3)), (Index('i'), Index('k')))), Product(Literal('z_{2}', array(0.3)), Indexed(Variable('b', (10, 3)), (Index('i'), Index('k'))))), Sum(Product(Literal('z_{0}', array(0.1)), Indexed(Variable('c', (10, 3)), (Index('i'), Index('j')))), Product(Literal('z_{2}', array(0.3)), Indexed(Variable('d', (10, 3)), (Index('i'), Index('j')))))), Product(Sum(Product(Literal('z_{1}', array(0.2)), Indexed(Variable('a', (10, 3)), (Index('i'), Index('k')))), Product(Literal('z_{3}', array(0.4)), Indexed(Variable('b', (10, 3)), (Index('i'), Index('k'))))), Sum(Product(Literal('z_{1}', array(0.2)), Indexed(Variable('c', (10, 3)), (Index('i'), Index('j')))), Product(Literal('z_{3}', array(0.4)), Indexed(Variable('d', (10, 3)), (Index('i'), Index('j'))))))), Indexed(Variable('W', (10,)), (Index('i'),)))"
      ]
     },
     "execution_count": 7,
     "metadata": {},
     "output_type": "execute_result"
    }
   ],
   "source": [
    "e1 = Sum(Product(Z0, Aik), Product(Z2, Bik))\n",
    "e2 = Sum(Product(Z0, Cij), Product(Z2, Dij))\n",
    "e3 = Sum(Product(Z1, Aik), Product(Z3, Bik))\n",
    "e4 = Sum(Product(Z1, Cij), Product(Z3, Dij))\n",
    "expr = Product(Sum(Product(e1, e2), Product(e3, e4)), Wi)\n",
    "expr"
   ]
  },
  {
   "cell_type": "code",
   "execution_count": 96,
   "metadata": {
    "collapsed": false
   },
   "outputs": [
    {
     "data": {
      "text/plain": [
       "<module 'gem.dev' from '/home/tj/project/firedrake/src/tsfc/gem/dev.py'>"
      ]
     },
     "execution_count": 96,
     "metadata": {},
     "output_type": "execute_result"
    }
   ],
   "source": [
    "reload(dev)"
   ]
  },
  {
   "cell_type": "code",
   "execution_count": 97,
   "metadata": {
    "collapsed": false
   },
   "outputs": [
    {
     "data": {
      "text/latex": [
       "$((({z_{0}} \\times {a}_{i,k} \\times {z_{0}} \\times {c}_{i,j} \\times {W}_{i} + {z_{2}} \\times {b}_{i,k} \\times {z_{0}} \\times {c}_{i,j} \\times {W}_{i}) + ({z_{0}} \\times {a}_{i,k} \\times {z_{2}} \\times {d}_{i,j} \\times {W}_{i} + {z_{2}} \\times {b}_{i,k} \\times {z_{2}} \\times {d}_{i,j} \\times {W}_{i})) + (({z_{1}} \\times {a}_{i,k} \\times {z_{1}} \\times {c}_{i,j} \\times {W}_{i} + {z_{3}} \\times {b}_{i,k} \\times {z_{1}} \\times {c}_{i,j} \\times {W}_{i}) + ({z_{1}} \\times {a}_{i,k} \\times {z_{3}} \\times {d}_{i,j} \\times {W}_{i} + {z_{3}} \\times {b}_{i,k} \\times {z_{3}} \\times {d}_{i,j} \\times {W}_{i})))$"
      ],
      "text/plain": [
       "Sum(Sum(Sum(Product(Product(Product(Literal('z_{0}', array(0.1)), Indexed(Variable('a', (10, 3)), (Index('i'), Index('k')))), Product(Literal('z_{0}', array(0.1)), Indexed(Variable('c', (10, 3)), (Index('i'), Index('j'))))), Indexed(Variable('W', (10,)), (Index('i'),))), Product(Product(Product(Literal('z_{2}', array(0.3)), Indexed(Variable('b', (10, 3)), (Index('i'), Index('k')))), Product(Literal('z_{0}', array(0.1)), Indexed(Variable('c', (10, 3)), (Index('i'), Index('j'))))), Indexed(Variable('W', (10,)), (Index('i'),)))), Sum(Product(Product(Product(Literal('z_{0}', array(0.1)), Indexed(Variable('a', (10, 3)), (Index('i'), Index('k')))), Product(Literal('z_{2}', array(0.3)), Indexed(Variable('d', (10, 3)), (Index('i'), Index('j'))))), Indexed(Variable('W', (10,)), (Index('i'),))), Product(Product(Product(Literal('z_{2}', array(0.3)), Indexed(Variable('b', (10, 3)), (Index('i'), Index('k')))), Product(Literal('z_{2}', array(0.3)), Indexed(Variable('d', (10, 3)), (Index('i'), Index('j'))))), Indexed(Variable('W', (10,)), (Index('i'),))))), Sum(Sum(Product(Product(Product(Literal('z_{1}', array(0.2)), Indexed(Variable('a', (10, 3)), (Index('i'), Index('k')))), Product(Literal('z_{1}', array(0.2)), Indexed(Variable('c', (10, 3)), (Index('i'), Index('j'))))), Indexed(Variable('W', (10,)), (Index('i'),))), Product(Product(Product(Literal('z_{3}', array(0.4)), Indexed(Variable('b', (10, 3)), (Index('i'), Index('k')))), Product(Literal('z_{1}', array(0.2)), Indexed(Variable('c', (10, 3)), (Index('i'), Index('j'))))), Indexed(Variable('W', (10,)), (Index('i'),)))), Sum(Product(Product(Product(Literal('z_{1}', array(0.2)), Indexed(Variable('a', (10, 3)), (Index('i'), Index('k')))), Product(Literal('z_{3}', array(0.4)), Indexed(Variable('d', (10, 3)), (Index('i'), Index('j'))))), Indexed(Variable('W', (10,)), (Index('i'),))), Product(Product(Product(Literal('z_{3}', array(0.4)), Indexed(Variable('b', (10, 3)), (Index('i'), Index('k')))), Product(Literal('z_{3}', array(0.4)), Indexed(Variable('d', (10, 3)), (Index('i'), Index('j'))))), Indexed(Variable('W', (10,)), (Index('i'),))))))"
      ]
     },
     "execution_count": 97,
     "metadata": {},
     "output_type": "execute_result"
    }
   ],
   "source": [
    "expr_new = dev.expand_all_product(expr)\n",
    "expr_new"
   ]
  },
  {
   "cell_type": "code",
   "execution_count": 98,
   "metadata": {
    "collapsed": false
   },
   "outputs": [],
   "source": [
    "result = dev.factorise(expr_new, (j,k))"
   ]
  },
  {
   "cell_type": "code",
   "execution_count": 103,
   "metadata": {
    "collapsed": false
   },
   "outputs": [
    {
     "data": {
      "text/plain": [
       "720"
      ]
     },
     "execution_count": 103,
     "metadata": {},
     "output_type": "execute_result"
    }
   ],
   "source": [
    "dev.count_flop(expr, (j,k))"
   ]
  },
  {
   "cell_type": "code",
   "execution_count": 102,
   "metadata": {
    "collapsed": false
   },
   "outputs": [
    {
     "data": {
      "text/plain": [
       "2550"
      ]
     },
     "execution_count": 102,
     "metadata": {},
     "output_type": "execute_result"
    }
   ],
   "source": [
    "dev.count_flop(expr_new, (j,k))"
   ]
  },
  {
   "cell_type": "code",
   "execution_count": 101,
   "metadata": {
    "collapsed": false
   },
   "outputs": [
    {
     "data": {
      "text/plain": [
       "552"
      ]
     },
     "execution_count": 101,
     "metadata": {},
     "output_type": "execute_result"
    }
   ],
   "source": [
    "dev.count_flop(result, (j,k))"
   ]
  },
  {
   "cell_type": "code",
   "execution_count": 52,
   "metadata": {
    "collapsed": false
   },
   "outputs": [
    {
     "data": {
      "text/latex": [
       "$((({z_{0}} \\times {z_{2}} \\times {a}_{i,k} + {z_{2}} \\times {z_{2}} \\times {b}_{i,k}) + {z_{1}} \\times {z_{3}} \\times {a}_{i,k}) + {z_{3}} \\times {z_{3}} \\times {b}_{i,k})$"
      ],
      "text/plain": [
       "Sum(Sum(Sum(Product(Product(Literal('z_{0}', array(0.1)), Literal('z_{2}', array(0.3))), Indexed(Variable('a', (10, 3)), (Index('i'), Index('k')))), Product(Product(Literal('z_{2}', array(0.3)), Literal('z_{2}', array(0.3))), Indexed(Variable('b', (10, 3)), (Index('i'), Index('k'))))), Product(Product(Literal('z_{1}', array(0.2)), Literal('z_{3}', array(0.4))), Indexed(Variable('a', (10, 3)), (Index('i'), Index('k'))))), Product(Product(Literal('z_{3}', array(0.4)), Literal('z_{3}', array(0.4))), Indexed(Variable('b', (10, 3)), (Index('i'), Index('k')))))"
      ]
     },
     "execution_count": 52,
     "metadata": {},
     "output_type": "execute_result"
    }
   ],
   "source": [
    "t = result.children[1].children[0].children[1]\n",
    "t"
   ]
  },
  {
   "cell_type": "code",
   "execution_count": 53,
   "metadata": {
    "collapsed": false
   },
   "outputs": [
    {
     "data": {
      "text/latex": [
       "$({b}_{i,k} \\times ({z_{2}} \\times {z_{2}} + {z_{3}} \\times {z_{3}}) + {a}_{i,k} \\times ({z_{0}} \\times {z_{2}} + {z_{1}} \\times {z_{3}}))$"
      ],
      "text/plain": [
       "Sum(Product(Indexed(Variable('b', (10, 3)), (Index('i'), Index('k'))), Sum(Product(Literal('z_{2}', array(0.3)), Literal('z_{2}', array(0.3))), Product(Literal('z_{3}', array(0.4)), Literal('z_{3}', array(0.4))))), Product(Indexed(Variable('a', (10, 3)), (Index('i'), Index('k'))), Sum(Product(Literal('z_{0}', array(0.1)), Literal('z_{2}', array(0.3))), Product(Literal('z_{1}', array(0.2)), Literal('z_{3}', array(0.4))))))"
      ]
     },
     "execution_count": 53,
     "metadata": {},
     "output_type": "execute_result"
    }
   ],
   "source": [
    "dev.factorise(t, (k,))"
   ]
  },
  {
   "cell_type": "code",
   "execution_count": 15,
   "metadata": {
    "collapsed": false
   },
   "outputs": [
    {
     "data": {
      "text/latex": [
       "${z_{1}} \\times {z_{1}} \\times {W}_{i} \\times {a}_{i,k}$"
      ],
      "text/plain": [
       "Product(Product(Product(Literal('z_{1}', array(0.2)), Literal('z_{1}', array(0.2))), Indexed(Variable('W', (10,)), (Index('i'),))), Indexed(Variable('a', (10, 3)), (Index('i'), Index('k'))))"
      ]
     },
     "execution_count": 15,
     "metadata": {},
     "output_type": "execute_result"
    }
   ],
   "source": [
    "result[Cij][2]"
   ]
  },
  {
   "cell_type": "code",
   "execution_count": 69,
   "metadata": {
    "collapsed": false
   },
   "outputs": [
    {
     "data": {
      "text/latex": [
       "${z_{2}}$"
      ],
      "text/plain": [
       "Literal('z_{2}', array(0.3))"
      ]
     },
     "execution_count": 69,
     "metadata": {},
     "output_type": "execute_result"
    }
   ],
   "source": [
    "t"
   ]
  },
  {
   "cell_type": "code",
   "execution_count": 70,
   "metadata": {
    "collapsed": false
   },
   "outputs": [
    {
     "data": {
      "text/plain": [
       "()"
      ]
     },
     "execution_count": 70,
     "metadata": {},
     "output_type": "execute_result"
    }
   ],
   "source": [
    "t.free_indices"
   ]
  },
  {
   "cell_type": "code",
   "execution_count": 12,
   "metadata": {
    "collapsed": false
   },
   "outputs": [
    {
     "data": {
      "text/plain": [
       "[Literal('z_{0}', array(0.1)),\n",
       " Indexed(Variable('a', (10, 3)), (Index('i'), Index('k'))),\n",
       " Indexed(Variable('c', (10, 3)), (Index('i'), Index('j')))]"
      ]
     },
     "execution_count": 12,
     "metadata": {},
     "output_type": "execute_result"
    }
   ],
   "source": [
    "dev.collect_terms(t, Product)"
   ]
  },
  {
   "cell_type": "code",
   "execution_count": 50,
   "metadata": {
    "collapsed": false
   },
   "outputs": [],
   "source": [
    "result = dev._factorise(expr_new, (i,j,k))"
   ]
  },
  {
   "cell_type": "code",
   "execution_count": 51,
   "metadata": {
    "collapsed": false
   },
   "outputs": [
    {
     "data": {
      "text/latex": [
       "${W}_{i} \\times ((((((({z_{3}} \\times {b}_{i,k} \\times {z_{3}} \\times {d}_{i,j} + {z_{1}} \\times {a}_{i,k} \\times {z_{3}} \\times {d}_{i,j}) + {z_{3}} \\times {b}_{i,k} \\times {z_{1}} \\times {c}_{i,j}) + {z_{1}} \\times {a}_{i,k} \\times {z_{1}} \\times {c}_{i,j}) + {z_{2}} \\times {b}_{i,k} \\times {z_{2}} \\times {d}_{i,j}) + {z_{0}} \\times {a}_{i,k} \\times {z_{2}} \\times {d}_{i,j}) + {z_{0}} \\times {a}_{i,k} \\times {z_{0}} \\times {c}_{i,j}) + {z_{2}} \\times {b}_{i,k} \\times {z_{0}} \\times {c}_{i,j})$"
      ],
      "text/plain": [
       "Product(Indexed(Variable('W', (10,)), (Index('i'),)), Sum(Sum(Sum(Sum(Sum(Sum(Sum(Product(Product(Literal('z_{3}', array(0.4)), Indexed(Variable('b', (10, 3)), (Index('i'), Index('k')))), Product(Literal('z_{3}', array(0.4)), Indexed(Variable('d', (10, 3)), (Index('i'), Index('j'))))), Product(Product(Literal('z_{1}', array(0.2)), Indexed(Variable('a', (10, 3)), (Index('i'), Index('k')))), Product(Literal('z_{3}', array(0.4)), Indexed(Variable('d', (10, 3)), (Index('i'), Index('j')))))), Product(Product(Literal('z_{3}', array(0.4)), Indexed(Variable('b', (10, 3)), (Index('i'), Index('k')))), Product(Literal('z_{1}', array(0.2)), Indexed(Variable('c', (10, 3)), (Index('i'), Index('j')))))), Product(Product(Literal('z_{1}', array(0.2)), Indexed(Variable('a', (10, 3)), (Index('i'), Index('k')))), Product(Literal('z_{1}', array(0.2)), Indexed(Variable('c', (10, 3)), (Index('i'), Index('j')))))), Product(Product(Literal('z_{2}', array(0.3)), Indexed(Variable('b', (10, 3)), (Index('i'), Index('k')))), Product(Literal('z_{2}', array(0.3)), Indexed(Variable('d', (10, 3)), (Index('i'), Index('j')))))), Product(Product(Literal('z_{0}', array(0.1)), Indexed(Variable('a', (10, 3)), (Index('i'), Index('k')))), Product(Literal('z_{2}', array(0.3)), Indexed(Variable('d', (10, 3)), (Index('i'), Index('j')))))), Product(Product(Literal('z_{0}', array(0.1)), Indexed(Variable('a', (10, 3)), (Index('i'), Index('k')))), Product(Literal('z_{0}', array(0.1)), Indexed(Variable('c', (10, 3)), (Index('i'), Index('j')))))), Product(Product(Literal('z_{2}', array(0.3)), Indexed(Variable('b', (10, 3)), (Index('i'), Index('k')))), Product(Literal('z_{0}', array(0.1)), Indexed(Variable('c', (10, 3)), (Index('i'), Index('j')))))))"
      ]
     },
     "execution_count": 51,
     "metadata": {},
     "output_type": "execute_result"
    }
   ],
   "source": [
    "result[0]"
   ]
  },
  {
   "cell_type": "code",
   "execution_count": 52,
   "metadata": {
    "collapsed": false
   },
   "outputs": [
    {
     "data": {
      "text/plain": [
       "1920"
      ]
     },
     "execution_count": 52,
     "metadata": {},
     "output_type": "execute_result"
    }
   ],
   "source": [
    "result[1]"
   ]
  },
  {
   "cell_type": "code",
   "execution_count": 53,
   "metadata": {
    "collapsed": false
   },
   "outputs": [
    {
     "data": {
      "text/plain": [
       "720"
      ]
     },
     "execution_count": 53,
     "metadata": {},
     "output_type": "execute_result"
    }
   ],
   "source": [
    "dev.count_flop(expr, (i,j,k))"
   ]
  },
  {
   "cell_type": "code",
   "execution_count": 54,
   "metadata": {
    "collapsed": false
   },
   "outputs": [
    {
     "data": {
      "text/plain": [
       "2550"
      ]
     },
     "execution_count": 54,
     "metadata": {},
     "output_type": "execute_result"
    }
   ],
   "source": [
    "dev.count_flop(expr_new, (i,j,k))"
   ]
  },
  {
   "cell_type": "code",
   "execution_count": 49,
   "metadata": {
    "collapsed": true
   },
   "outputs": [],
   "source": [
    "result = {}"
   ]
  },
  {
   "cell_type": "code",
   "execution_count": 50,
   "metadata": {
    "collapsed": true
   },
   "outputs": [],
   "source": [
    "dev.collect_factors(expr_new, result)"
   ]
  },
  {
   "cell_type": "code",
   "execution_count": 56,
   "metadata": {
    "collapsed": false
   },
   "outputs": [
    {
     "data": {
      "text/latex": [
       "${z_{1}} \\times {a}_{i,k} \\times {z_{1}} \\times {c}_{i,j}$"
      ],
      "text/plain": [
       "Product(Product(Literal('z_{1}', array(0.1)), Indexed(Variable('a', (10, 3)), (Index('i'), Index('k')))), Product(Literal('z_{1}', array(0.1)), Indexed(Variable('c', (10, 3)), (Index('i'), Index('j')))))"
      ]
     },
     "execution_count": 56,
     "metadata": {},
     "output_type": "execute_result"
    }
   ],
   "source": [
    "result[Wi][0]"
   ]
  },
  {
   "cell_type": "code",
   "execution_count": null,
   "metadata": {
    "collapsed": true
   },
   "outputs": [],
   "source": []
  }
 ],
 "metadata": {
  "kernelspec": {
   "display_name": "Python 2",
   "language": "python",
   "name": "python2"
  },
  "language_info": {
   "codemirror_mode": {
    "name": "ipython",
    "version": 2
   },
   "file_extension": ".py",
   "mimetype": "text/x-python",
   "name": "python",
   "nbconvert_exporter": "python",
   "pygments_lexer": "ipython2",
   "version": "2.7.6"
  }
 },
 "nbformat": 4,
 "nbformat_minor": 0
}
